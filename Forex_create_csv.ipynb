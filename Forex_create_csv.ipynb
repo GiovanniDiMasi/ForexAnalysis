{
 "cells": [
  {
   "cell_type": "code",
   "execution_count": 1,
   "id": "ef59f22b",
   "metadata": {},
   "outputs": [],
   "source": [
    "import pandas as pd\n",
    "import requests\n",
    "import defs"
   ]
  },
  {
   "cell_type": "code",
   "execution_count": 2,
   "id": "55f3dfc0",
   "metadata": {},
   "outputs": [],
   "source": [
    "session = requests.Session()"
   ]
  },
  {
   "cell_type": "code",
   "execution_count": 47,
   "id": "b92b312b",
   "metadata": {},
   "outputs": [],
   "source": [
    "def fetch_candles(pair_name, count, granularity):\n",
    "    url = f\"{defs.OANDA_URL}/instruments/{pair_name}/candles\"\n",
    "    params = dict(\n",
    "        count = count,\n",
    "        granularity = granularity,\n",
    "        price = \"MBA\"\n",
    "    )\n",
    "    response = session.get(url, params=params, headers=defs.SECURE_HEADER)\n",
    "    return response.status_code, response.json()\n",
    "\n",
    "def get_candles_df(json_response):\n",
    "\n",
    "    prices = ['mid', 'bid', 'ask']\n",
    "    ohlc = ['o', 'h', 'l', 'c']\n",
    "    our_data = []\n",
    "    for candle in json_response['candles']:\n",
    "        if candle['complete'] == False:\n",
    "            continue\n",
    "        new_dict = {}\n",
    "        new_dict['time'] = candle['time']\n",
    "        new_dict['volume'] = candle['volume']\n",
    "        for price in prices:\n",
    "            for oh in ohlc:\n",
    "                new_dict[f\"{price}_{oh}\"] = candle[price][oh]\n",
    "        our_data.append(new_dict)\n",
    "    return pd.DataFrame.from_dict(our_data)\n",
    "\n",
    "def save_file(candles_df, pair, granularity):\n",
    "    candles_df.to_csv(f\"his_data/{pair}_{granularity}.csv\")\n",
    "    \n",
    "def create_data(pair, granularity):\n",
    "    code, json_data = fetch_candles(pair, 624, granularity)\n",
    "    if code != 200:\n",
    "        print(pair, \"Error\",code)\n",
    "        return\n",
    "    df = get_candles_df(json_data)\n",
    "    print(f\"{pair} loaded {df.shape[0]} candles from {df.time.min()} to {df.time.max()}\")\n",
    "    save_file(df, pair, granularity)"
   ]
  },
  {
   "cell_type": "code",
   "execution_count": 31,
   "id": "7a053cfe",
   "metadata": {},
   "outputs": [
    {
     "name": "stdout",
     "output_type": "stream",
     "text": [
      "EUR_USD loaded 607 candles from 2019-01-01T22:00:00.000000000Z to 2021-05-03T21:00:00.000000000Z\n"
     ]
    }
   ],
   "source": [
    "create_data('EUR_USD','D')"
   ]
  },
  {
   "cell_type": "code",
   "execution_count": 39,
   "id": "4c757fe9",
   "metadata": {},
   "outputs": [
    {
     "name": "stdout",
     "output_type": "stream",
     "text": [
      "USD_CAD loaded 630 candles from 2019-01-01T22:00:00.000000000Z to 2021-05-03T21:00:00.000000000Z\n"
     ]
    }
   ],
   "source": [
    "create_data('USD_CAD','D')"
   ]
  },
  {
   "cell_type": "code",
   "execution_count": 48,
   "id": "7bf81807",
   "metadata": {},
   "outputs": [
    {
     "name": "stdout",
     "output_type": "stream",
     "text": [
      "USD_JPY loaded 623 candles from 2019-01-01T22:00:00.000000000Z to 2021-05-03T21:00:00.000000000Z\n"
     ]
    }
   ],
   "source": [
    "create_data('USD_JPY','D')"
   ]
  },
  {
   "cell_type": "code",
   "execution_count": null,
   "id": "1af72c4e",
   "metadata": {},
   "outputs": [],
   "source": []
  }
 ],
 "metadata": {
  "kernelspec": {
   "display_name": "Python 3",
   "language": "python",
   "name": "python3"
  },
  "language_info": {
   "codemirror_mode": {
    "name": "ipython",
    "version": 3
   },
   "file_extension": ".py",
   "mimetype": "text/x-python",
   "name": "python",
   "nbconvert_exporter": "python",
   "pygments_lexer": "ipython3",
   "version": "3.8.8"
  }
 },
 "nbformat": 4,
 "nbformat_minor": 5
}
